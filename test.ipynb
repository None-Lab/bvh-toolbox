{
 "cells": [
  {
   "cell_type": "code",
   "execution_count": 1,
   "metadata": {},
   "outputs": [],
   "source": [
    "import matplotlib.pyplot as plt\n",
    "import pandas as pd\n"
   ]
  },
  {
   "cell_type": "code",
   "execution_count": 2,
   "metadata": {},
   "outputs": [],
   "source": [
    "data = pd.read_csv(\"test/ex/PT_S104_1_FM_M_009_positions.csv\")"
   ]
  },
  {
   "cell_type": "code",
   "execution_count": 3,
   "metadata": {},
   "outputs": [],
   "source": [
    "for num in range(data.shape[0]):\n",
    "    plt.scatter(data['HeadEnd.X'][num], data['HeadEnd.Y'][num], c = \"r\")\n",
    "    plt.scatter(data['Head.X'][num], data['Head.Y'][num], c = \"r\")\n",
    "    plt.scatter(data['Neck.X'][num], data['Neck.Y'][num], c = \"r\")\n",
    "    plt.scatter(data['Spine.X'][num], data['Spine.Y'][num], c = \"r\")\n",
    "    plt.scatter(data['Spine1.X'][num], data['Spine1.Y'][num], c = \"r\")\n",
    "    plt.scatter(data['Spine2.X'][num], data['Spine2.Y'][num], c = \"r\")\n",
    "    plt.scatter(data['Hips.X'][num], data['Hips.Y'][num], c = \"r\")\n",
    "\n",
    "    plt.scatter(data['LeftArm.X'][num], data['LeftArm.Y'][num], c = \"y\")\n",
    "    plt.scatter(data['LeftHand.X'][num], data['LeftHand.Y'][num], c = \"y\")\n",
    "    plt.scatter(data['LeftShoulder.X'][num], data['LeftShoulder.Y'][num], c = \"y\")\n",
    "\n",
    "    plt.scatter(data['LeftLeg.X'][num], data['LeftLeg.Y'][num], c = \"g\")\n",
    "    plt.scatter(data['LeftFoot.X'][num], data['LeftFoot.Y'][num], c = \"g\")\n",
    "    plt.scatter(data['LeftUpLeg.X'][num], data['LeftUpLeg.Y'][num], c = \"g\")\n",
    "\n",
    "    plt.scatter(data['RightArm.X'][num], data['RightArm.Y'][num], c = \"b\")\n",
    "    plt.scatter(data['RightHand.X'][num], data['RightHand.Y'][num], c = \"b\")\n",
    "    plt.scatter(data['RightShoulder.X'][num], data['RightShoulder.Y'][num], c = \"b\")\n",
    "\n",
    "    plt.scatter(data['RightLeg.X'][num], data['RightLeg.Y'][num], c = \"m\")\n",
    "    plt.scatter(data['RightFoot.X'][num], data['RightFoot.Y'][num], c = \"m\")\n",
    "    plt.scatter(data['RightUpLeg.X'][num], data['RightUpLeg.Y'][num], c = \"m\")\n",
    "\n",
    "    plt.savefig(f\"test/image/{num}.png\")\n",
    "    plt.cla()"
   ]
  }
 ],
 "metadata": {
  "kernelspec": {
   "display_name": "Python 3",
   "language": "python",
   "name": "python3"
  },
  "language_info": {
   "codemirror_mode": {
    "name": "ipython",
    "version": 3
   },
   "file_extension": ".py",
   "mimetype": "text/x-python",
   "name": "python",
   "nbconvert_exporter": "python",
   "pygments_lexer": "ipython3",
   "version": "3.10.12"
  }
 },
 "nbformat": 4,
 "nbformat_minor": 2
}
